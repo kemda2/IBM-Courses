{
 "cells": [
  {
   "cell_type": "markdown",
   "metadata": {},
   "source": [
    "<h1>Capstone Project - The Battle of Neighborhoods (Week 1)</h1>\n",
    "<h3>Introduction/Business Problem</h3>"
   ]
  },
  {
   "cell_type": "markdown",
   "metadata": {},
   "source": [
    "The challenge is to find a suitable apartment for rent in Manhattan NY that complies with the demands on location, price and venues. The major purpose of this project, is to suggest a better apartment, neighborhood in a new city for the person who are shiffting there. Social presence in society in terms of like minded people. Connectivity to the airport, bus stand, city center, markets and other daily needs things nearby. The key question is : How can we find a convenient and enjoyable place similar to current you are living? Certainly, We can use available real estate apps and Google but the idea is to use and apply the learned tools during the course. In order to make a comparison and evaluation of the rental options in Manhattan NY, we must set some basis, therefore the apartment in Manhattan must meet the following demands:\n",
    "\n",
    "1. 2 or 3 bedrooms apartment\n",
    "2. Desired location is near a metro station in the Manhattan area and within 1.0 mile (1.6 km) radius\n",
    "3. Rent Price should not exceed 7,000 dollar per month\n",
    "4. Top ammenities in the selected neighborhood shall be similar to current residence\n",
    "5. Desirable to have venues such as coffee shops, restaurants Asian Thai, wine stores, gym and food shops"
   ]
  }
 ],
 "metadata": {
  "kernelspec": {
   "display_name": "Python 3",
   "language": "python",
   "name": "python3"
  },
  "language_info": {
   "codemirror_mode": {
    "name": "ipython",
    "version": 3
   },
   "file_extension": ".py",
   "mimetype": "text/x-python",
   "name": "python",
   "nbconvert_exporter": "python",
   "pygments_lexer": "ipython3",
   "version": "3.7.6"
  }
 },
 "nbformat": 4,
 "nbformat_minor": 4
}
