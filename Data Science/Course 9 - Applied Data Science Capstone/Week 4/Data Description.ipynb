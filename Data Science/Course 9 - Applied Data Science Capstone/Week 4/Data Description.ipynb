{
 "cells": [
  {
   "cell_type": "markdown",
   "metadata": {},
   "source": [
    "<h1>Capstone Project - The Battle of Neighborhoods (Week 1)</h1>\n",
    "\n",
    "<h3>Data Description:</h3>\n",
    "\n",
    "The following data is required to answer the issues of the problem:\n",
    "\n",
    "1. List of Boroughs and neighborhoods of Manhattan with their geodata (latitude and longitude)\n",
    "2. List of Subway metro stations in Manhattan with their address location\n",
    "3. List of apartments for rent in Manhattan area with their addresses and price\n",
    "4. Preferably, a list of apartment for rent with additional information, such as price, address, area, numbers of beds, etc\n",
    "5. Venues for each Manhattan neighborhood ( than can be clustered)\n",
    "6. Venues for subway metro stations, as needed\n",
    "\n",
    "<h3>Using dataset to Solve the Problem</h3>\n",
    "\n",
    "The data will be used as follows:\n",
    "\n",
    "1. Use Foursquare and geopy data to map top 10 venues for all Manhattan neighborhoods and clustered in groups ( as per Course LAB)\n",
    "2. Use foursquare and geopy data to map the location of subway metro stations, separately and on top of the above clustered map in order to be able to identify the venues and ammenities near each metro station, or explore each subway location separately\n",
    "3. Use Foursquare and geopy data to map the location of rental places, in some form, linked to the subway locations.\n",
    "4. Create a map that depicts, for instance, the average rental price per square ft, around a radious of 1.0 mile (1.6 km) around each subway station - or a similar metrics. We will be able to quickly point to the popups to know the relative price per subway area.\n",
    "5. Addresses from rental locations will be converted to geodata( lat, long) using Geopy-distance and Nominatim.\n",
    "6. Data will be searched in open data sources if available, from real estate sites if open to reading, libraries or other government agencies such as Metro New York MTA, etc.\n",
    "\n",
    "The procesing of these DATA will allow to answer the key questions to make a decision:\n",
    "\n",
    "1. What is the cost of rent (per square ft) around a mile radius from each subway metro station?\n",
    "2. What is the area of Manhattan with best rental pricing that meets criteria established?\n",
    "3. What is the distance from work place ( Park Ave and 53 rd St) and the tentative future home?\n",
    "4. What are the venues of the two best places to live? How the prices compare?\n",
    "5. How venues distribute among Manhattan neighborhoods and around metro stations?\n",
    "6. Are there tradeoffs between size and price and location?\n",
    "7. Any other interesting statistical data findings of the real estate and overall data."
   ]
  }
 ],
 "metadata": {
  "kernelspec": {
   "display_name": "Python 3",
   "language": "python",
   "name": "python3"
  },
  "language_info": {
   "codemirror_mode": {
    "name": "ipython",
    "version": 3
   },
   "file_extension": ".py",
   "mimetype": "text/x-python",
   "name": "python",
   "nbconvert_exporter": "python",
   "pygments_lexer": "ipython3",
   "version": "3.7.6"
  }
 },
 "nbformat": 4,
 "nbformat_minor": 4
}
